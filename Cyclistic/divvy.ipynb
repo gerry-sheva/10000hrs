{
 "cells": [
  {
   "cell_type": "markdown",
   "metadata": {},
   "source": [
    "This is an analysis of Divvy Bicycle Sharing trip dataset that can be accessed from https://divvy-tripdata.s3.amazonaws.com/index.html\n",
    "\n",
    "Divvy Bikes is a bike sharing company based in Chicago that provides locals and tourists an option to travel the city of Chicago. Recently, the financial analysts had found that riders who own memberships are more profitable than their casual counterparts. Hence, it is desirable to convert as many casual riders as possible to become members in order to maximize profits."
   ]
  },
  {
   "cell_type": "code",
   "execution_count": 1,
   "metadata": {},
   "outputs": [],
   "source": [
    "import pandas as pd\n",
    "import numpy as np\n",
    "import matplotlib.pyplot as plt\n",
    "import seaborn as sns"
   ]
  },
  {
   "cell_type": "code",
   "execution_count": null,
   "metadata": {},
   "outputs": [],
   "source": [
    "divvy202101 = pd.read_csv(\"202101-divvy-tripdata.csv\")\n",
    "divvy202102 = pd.read_csv(\"202102-divvy-tripdata.csv\")\n",
    "divvy202103 = pd.read_csv(\"202103-divvy-tripdata.csv\")\n",
    "divvy202104 = pd.read_csv(\"202104-divvy-tripdata.csv\")\n",
    "divvy202105 = pd.read_csv(\"202105-divvy-tripdata.csv\")\n",
    "divvy202106 = pd.read_csv(\"202106-divvy-tripdata.csv\")\n",
    "divvy202107 = pd.read_csv(\"202107-divvy-tripdata.csv\")\n",
    "divvy202108 = pd.read_csv(\"202108-divvy-tripdata.csv\")\n",
    "divvy202109 = pd.read_csv(\"202109-divvy-tripdata.csv\")\n",
    "divvy202110 = pd.read_csv(\"202110-divvy-tripdata.csv\")\n",
    "divvy202111 = pd.read_csv(\"202111-divvy-tripdata.csv\")\n",
    "divvy202112 = pd.read_csv(\"202112-divvy-tripdata.csv\")"
   ]
  },
  {
   "cell_type": "code",
   "execution_count": 3,
   "metadata": {},
   "outputs": [],
   "source": [
    "annual = [divvy202101, divvy202102, divvy202103, divvy202104, divvy202105, divvy202106, divvy202107, divvy202108, divvy202109,divvy202110, divvy202111, divvy202112]\n",
    "\n",
    "df = pd.concat(annual)"
   ]
  },
  {
   "cell_type": "code",
   "execution_count": 4,
   "metadata": {},
   "outputs": [
    {
     "name": "stdout",
     "output_type": "stream",
     "text": [
      "<class 'pandas.core.frame.DataFrame'>\n",
      "Int64Index: 5595063 entries, 0 to 247539\n",
      "Data columns (total 13 columns):\n",
      " #   Column              Dtype  \n",
      "---  ------              -----  \n",
      " 0   ride_id             object \n",
      " 1   rideable_type       object \n",
      " 2   started_at          object \n",
      " 3   ended_at            object \n",
      " 4   start_station_name  object \n",
      " 5   start_station_id    object \n",
      " 6   end_station_name    object \n",
      " 7   end_station_id      object \n",
      " 8   start_lat           float64\n",
      " 9   start_lng           float64\n",
      " 10  end_lat             float64\n",
      " 11  end_lng             float64\n",
      " 12  member_casual       object \n",
      "dtypes: float64(4), object(9)\n",
      "memory usage: 597.6+ MB\n"
     ]
    }
   ],
   "source": [
    "df.info()"
   ]
  },
  {
   "cell_type": "code",
   "execution_count": 5,
   "metadata": {},
   "outputs": [
    {
     "data": {
      "text/plain": [
       "ride_id                    0\n",
       "rideable_type              0\n",
       "started_at                 0\n",
       "ended_at                   0\n",
       "start_station_name    690809\n",
       "start_station_id      690806\n",
       "end_station_name      739170\n",
       "end_station_id        739170\n",
       "start_lat                  0\n",
       "start_lng                  0\n",
       "end_lat                 4771\n",
       "end_lng                 4771\n",
       "member_casual              0\n",
       "dtype: int64"
      ]
     },
     "execution_count": 5,
     "metadata": {},
     "output_type": "execute_result"
    }
   ],
   "source": [
    "df.isnull().sum()"
   ]
  },
  {
   "cell_type": "markdown",
   "metadata": {},
   "source": [
    "There are quite a lot of missing values. However, seeing that those columns may not be needed for this analysis, it is safe to drop those columns entirely. "
   ]
  },
  {
   "cell_type": "code",
   "execution_count": 6,
   "metadata": {},
   "outputs": [],
   "source": [
    "df = df.drop(columns=['start_station_name', 'start_station_id', 'end_station_name', 'end_station_id', \n",
    "                      'start_lat', 'start_lng', 'end_lat', 'end_lng'])"
   ]
  },
  {
   "cell_type": "code",
   "execution_count": 8,
   "metadata": {},
   "outputs": [
    {
     "data": {
      "text/plain": [
       "member    3066058\n",
       "casual    2529005\n",
       "Name: member_casual, dtype: int64"
      ]
     },
     "execution_count": 8,
     "metadata": {},
     "output_type": "execute_result"
    },
    {
     "data": {
      "image/png": "[encoded data removed]",
      "text/plain": [
       "<Figure size 432x288 with 1 Axes>"
      ]
     },
     "metadata": {
      "needs_background": "light"
     },
     "output_type": "display_data"
    }
   ],
   "source": [
    "ax = sns.countplot(x='member_casual', data=df)\n",
    "df['member_casual'].value_counts()"
   ]
  },
  {
   "cell_type": "code",
   "execution_count": 9,
   "metadata": {},
   "outputs": [],
   "source": [
    "df['started_at'] = pd.to_datetime(df['started_at'])\n",
    "df['ended_at'] = pd.to_datetime(df['ended_at'])"
   ]
  },
  {
   "cell_type": "code",
   "execution_count": 10,
   "metadata": {},
   "outputs": [],
   "source": [
    "df['day'] = df['started_at'].dt.day_name()\n",
    "df['day_of_week'] = df['started_at'].dt.dayofweek\n",
    "df = df.sort_values(by=['day_of_week'])"
   ]
  },
  {
   "cell_type": "code",
   "execution_count": 11,
   "metadata": {},
   "outputs": [
    {
     "data": {
      "image/png": "[encoded data removed]",
      "text/plain": [
       "<Figure size 432x288 with 1 Axes>"
      ]
     },
     "metadata": {
      "needs_background": "light"
     },
     "output_type": "display_data"
    }
   ],
   "source": [
    "ax = sns.countplot(x='day', hue='member_casual', data=df)"
   ]
  },
  {
   "cell_type": "markdown",
   "metadata": {},
   "source": [
    "The chart above shows a striking trend between casual and members rides. During weekdays, members consistently ride more than casuals, but this trend does not happen during weekends. One conclusion that can be made from this information alone is that the casuals mainly ride for leisure purpose, as indicated by a little spike in Friday followed by a peak in Saturday. Based on this, the company could try to market the Divvy Bikes as the main transportation mode, so that the casual would use the bike for their daily activities (e.g. going to work). As such, the ads can be placed near train stations and bus stops so that it targets the right demography."
   ]
  }
 ],
 "metadata": {
  "kernelspec": {
   "display_name": "Python 3 (ipykernel)",
   "language": "python",
   "name": "python3"
  },
  "language_info": {
   "codemirror_mode": {
    "name": "ipython",
    "version": 3
   },
   "file_extension": ".py",
   "mimetype": "text/x-python",
   "name": "python",
   "nbconvert_exporter": "python",
   "pygments_lexer": "ipython3",
   "version": "3.8.12"
  }
 },
 "nbformat": 4,
 "nbformat_minor": 4
}
